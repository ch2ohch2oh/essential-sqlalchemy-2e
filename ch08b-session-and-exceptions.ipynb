{
 "cells": [
  {
   "cell_type": "code",
   "execution_count": 1,
   "metadata": {
    "collapsed": true
   },
   "outputs": [],
   "source": [
    "from sqlalchemy import create_engine\n",
    "from sqlalchemy.orm import sessionmaker\n",
    "\n",
    "engine = create_engine('sqlite:///:memory:')\n",
    "\n",
    "Session = sessionmaker(bind=engine)\n",
    "\n",
    "session = Session()"
   ]
  },
  {
   "cell_type": "code",
   "execution_count": 2,
   "metadata": {
    "collapsed": false
   },
   "outputs": [
    {
     "name": "stderr",
     "output_type": "stream",
     "text": [
      "/tmp/ipykernel_5544/639828512.py:8: MovedIn20Warning: The ``declarative_base()`` function is now available as sqlalchemy.orm.declarative_base(). (deprecated since: 2.0) (Background on SQLAlchemy 2.0 at: https://sqlalche.me/e/b8d9)\n",
      "  Base = declarative_base()\n"
     ]
    }
   ],
   "source": [
    "from datetime import datetime\n",
    "\n",
    "from sqlalchemy import Table, Column, Integer, Numeric, String, DateTime, ForeignKey, Boolean, CheckConstraint\n",
    "from sqlalchemy.ext.declarative import declarative_base\n",
    "from sqlalchemy.orm import relationship, backref\n",
    "\n",
    "\n",
    "Base = declarative_base()\n",
    "\n",
    "\n",
    "class Cookie(Base):\n",
    "    __tablename__ = 'cookies'\n",
    "    __table_args__ = (CheckConstraint('quantity >= 0', name='quantity_positive'),)\n",
    "\n",
    "    cookie_id = Column(Integer, primary_key=True)\n",
    "    cookie_name = Column(String(50), index=True)\n",
    "    cookie_recipe_url = Column(String(255))\n",
    "    cookie_sku = Column(String(55))\n",
    "    quantity = Column(Integer())\n",
    "    unit_cost = Column(Numeric(12, 2))\n",
    "    \n",
    "    def __init__(self, name, recipe_url=None, sku=None, quantity=0, unit_cost=0.00):\n",
    "        self.cookie_name = name\n",
    "        self.cookie_recipe_url = recipe_url\n",
    "        self.cookie_sku = sku\n",
    "        self.quantity = quantity\n",
    "        self.unit_cost = unit_cost\n",
    "        \n",
    "    def __repr__(self):\n",
    "        return \"Cookie(cookie_name='{self.cookie_name}', \" \\\n",
    "                       \"cookie_recipe_url='{self.cookie_recipe_url}', \" \\\n",
    "                       \"cookie_sku='{self.cookie_sku}', \" \\\n",
    "                       \"quantity={self.quantity}, \" \\\n",
    "                       \"unit_cost={self.unit_cost})\".format(self=self)\n",
    "    \n",
    "    \n",
    "class User(Base):\n",
    "    __tablename__ = 'users'\n",
    "    \n",
    "    user_id = Column(Integer(), primary_key=True)\n",
    "    username = Column(String(15), nullable=False, unique=True)\n",
    "    email_address = Column(String(255), nullable=False)\n",
    "    phone = Column(String(20), nullable=False)\n",
    "    password = Column(String(25), nullable=False)\n",
    "    created_on = Column(DateTime(), default=datetime.now)\n",
    "    updated_on = Column(DateTime(), default=datetime.now, onupdate=datetime.now)\n",
    "    \n",
    "    def __init__(self, username, email_address, phone, password):\n",
    "        self.username = username\n",
    "        self.email_address = email_address\n",
    "        self.phone = phone\n",
    "        self.password = password\n",
    "        \n",
    "    def __repr__(self):\n",
    "        return \"User(username='{self.username}', \" \\\n",
    "                     \"email_address='{self.email_address}', \" \\\n",
    "                     \"phone='{self.phone}', \" \\\n",
    "                     \"password='{self.password}')\".format(self=self)\n",
    "    \n",
    "\n",
    "class Order(Base):\n",
    "    __tablename__ = 'orders'\n",
    "    order_id = Column(Integer(), primary_key=True)\n",
    "    user_id = Column(Integer(), ForeignKey('users.user_id'))\n",
    "    shipped = Column(Boolean(), default=False)\n",
    "    \n",
    "    user =  relationship(\"User\", backref=backref('orders', order_by=order_id))\n",
    "    \n",
    "    def __repr__(self):\n",
    "        return \"Order(user_id={self.user_id}, \" \\\n",
    "                      \"shipped={self.shipped})\".format(self=self)\n",
    "\n",
    "\n",
    "class LineItem(Base):\n",
    "    __tablename__ = 'line_items'\n",
    "    line_item_id = Column(Integer(), primary_key=True)\n",
    "    order_id = Column(Integer(), ForeignKey('orders.order_id'))\n",
    "    cookie_id = Column(Integer(), ForeignKey('cookies.cookie_id'))\n",
    "    quantity = Column(Integer())\n",
    "    extended_cost = Column(Numeric(12, 2))\n",
    "    \n",
    "    order = relationship(\"Order\", backref=backref('line_items', order_by=line_item_id))\n",
    "    cookie = relationship(\"Cookie\", uselist=False)\n",
    "\n",
    "    def __repr__(self):\n",
    "        return \"LineItems(order_id={self.order_id}, \" \\\n",
    "                          \"cookie_id={self.cookie_id}, \" \\\n",
    "                          \"quantity={self.quantity}, \" \\\n",
    "                          \"extended_cost={self.extended_cost})\".format(\n",
    "                    self=self)    \n",
    "    \n",
    "Base.metadata.create_all(engine)"
   ]
  },
  {
   "cell_type": "code",
   "execution_count": 3,
   "metadata": {
    "collapsed": false
   },
   "outputs": [],
   "source": [
    "cookiemon = User('cookiemon', 'mon@cookie.com', '111-111-1111', 'password')\n",
    "cc = Cookie('chocolate chip', 'http://some.aweso.me/cookie/recipe.html', 'CC01', 12, 0.50)\n",
    "dcc = Cookie('dark chocolate chip',\n",
    "             'http://some.aweso.me/cookie/recipe_dark.html',\n",
    "             'CC02',\n",
    "             1,\n",
    "             0.75)\n",
    "session.add(cookiemon)\n",
    "session.add(cc)\n",
    "session.add(dcc)"
   ]
  },
  {
   "cell_type": "code",
   "execution_count": 4,
   "metadata": {
    "collapsed": false
   },
   "outputs": [],
   "source": [
    "o1 = Order()\n",
    "o1.user = cookiemon\n",
    "session.add(o1)\n",
    "\n",
    "line1 = LineItem(order=o1, cookie=cc, quantity=9, extended_cost=4.50)\n",
    "\n",
    "\n",
    "session.add(line1)\n",
    "session.commit()\n",
    "o2 = Order()\n",
    "o2.user = cookiemon\n",
    "session.add(o2)\n",
    "\n",
    "line1 = LineItem(order=o2, cookie=cc, quantity=2, extended_cost=1.50)\n",
    "line2 = LineItem(order=o2, cookie=dcc, quantity=9, extended_cost=6.75)\n",
    "\n",
    "\n",
    "session.add(line1)\n",
    "session.add(line2)\n",
    "session.commit()"
   ]
  },
  {
   "cell_type": "code",
   "execution_count": 5,
   "metadata": {
    "collapsed": false
   },
   "outputs": [],
   "source": [
    "def ship_it(order_id):\n",
    "    order = session.query(Order).get(order_id)\n",
    "    for li in order.line_items:\n",
    "        li.cookie.quantity = li.cookie.quantity - li.quantity\n",
    "        session.add(li.cookie)\n",
    "    order.shipped = True\n",
    "    session.add(order)\n",
    "    session.commit()\n",
    "    print(\"shipped order ID: {}\".format(order_id))"
   ]
  },
  {
   "cell_type": "code",
   "execution_count": 6,
   "metadata": {
    "collapsed": false
   },
   "outputs": [
    {
     "name": "stdout",
     "output_type": "stream",
     "text": [
      "shipped order ID: 1\n",
      "[('chocolate chip', 3), ('dark chocolate chip', 1)]\n"
     ]
    },
    {
     "name": "stderr",
     "output_type": "stream",
     "text": [
      "/tmp/ipykernel_5544/3265315616.py:2: LegacyAPIWarning: The Query.get() method is considered legacy as of the 1.x series of SQLAlchemy and becomes a legacy construct in 2.0. The method is now available as Session.get() (deprecated since: 2.0) (Background on SQLAlchemy 2.0 at: https://sqlalche.me/e/b8d9)\n",
      "  order = session.query(Order).get(order_id)\n"
     ]
    }
   ],
   "source": [
    "ship_it(1)\n",
    "print(session.query(Cookie.cookie_name, Cookie.quantity).all())"
   ]
  },
  {
   "cell_type": "code",
   "execution_count": 7,
   "metadata": {
    "collapsed": false
   },
   "outputs": [
    {
     "name": "stderr",
     "output_type": "stream",
     "text": [
      "/tmp/ipykernel_5544/3265315616.py:2: LegacyAPIWarning: The Query.get() method is considered legacy as of the 1.x series of SQLAlchemy and becomes a legacy construct in 2.0. The method is now available as Session.get() (deprecated since: 2.0) (Background on SQLAlchemy 2.0 at: https://sqlalche.me/e/b8d9)\n",
      "  order = session.query(Order).get(order_id)\n"
     ]
    },
    {
     "ename": "IntegrityError",
     "evalue": "(sqlite3.IntegrityError) CHECK constraint failed: quantity_positive\n[SQL: UPDATE cookies SET quantity=? WHERE cookies.cookie_id = ?]\n[parameters: (-8, 2)]\n(Background on this error at: https://sqlalche.me/e/20/gkpj)",
     "output_type": "error",
     "traceback": [
      "\u001b[0;31m---------------------------------------------------------------------------\u001b[0m",
      "\u001b[0;31mIntegrityError\u001b[0m                            Traceback (most recent call last)",
      "File \u001b[0;32m/workspaces/essential-sqlalchemy-2e/venv/lib/python3.10/site-packages/sqlalchemy/engine/base.py:1965\u001b[0m, in \u001b[0;36mConnection._exec_single_context\u001b[0;34m(self, dialect, context, statement, parameters)\u001b[0m\n\u001b[1;32m   1964\u001b[0m     \u001b[39mif\u001b[39;00m \u001b[39mnot\u001b[39;00m evt_handled:\n\u001b[0;32m-> 1965\u001b[0m         \u001b[39mself\u001b[39;49m\u001b[39m.\u001b[39;49mdialect\u001b[39m.\u001b[39;49mdo_execute(\n\u001b[1;32m   1966\u001b[0m             cursor, str_statement, effective_parameters, context\n\u001b[1;32m   1967\u001b[0m         )\n\u001b[1;32m   1969\u001b[0m \u001b[39mif\u001b[39;00m \u001b[39mself\u001b[39m\u001b[39m.\u001b[39m_has_events \u001b[39mor\u001b[39;00m \u001b[39mself\u001b[39m\u001b[39m.\u001b[39mengine\u001b[39m.\u001b[39m_has_events:\n",
      "File \u001b[0;32m/workspaces/essential-sqlalchemy-2e/venv/lib/python3.10/site-packages/sqlalchemy/engine/default.py:921\u001b[0m, in \u001b[0;36mDefaultDialect.do_execute\u001b[0;34m(self, cursor, statement, parameters, context)\u001b[0m\n\u001b[1;32m    920\u001b[0m \u001b[39mdef\u001b[39;00m \u001b[39mdo_execute\u001b[39m(\u001b[39mself\u001b[39m, cursor, statement, parameters, context\u001b[39m=\u001b[39m\u001b[39mNone\u001b[39;00m):\n\u001b[0;32m--> 921\u001b[0m     cursor\u001b[39m.\u001b[39;49mexecute(statement, parameters)\n",
      "\u001b[0;31mIntegrityError\u001b[0m: CHECK constraint failed: quantity_positive",
      "\nThe above exception was the direct cause of the following exception:\n",
      "\u001b[0;31mIntegrityError\u001b[0m                            Traceback (most recent call last)",
      "Cell \u001b[0;32mIn[7], line 1\u001b[0m\n\u001b[0;32m----> 1\u001b[0m ship_it(\u001b[39m2\u001b[39;49m)\n",
      "Cell \u001b[0;32mIn[5], line 8\u001b[0m, in \u001b[0;36mship_it\u001b[0;34m(order_id)\u001b[0m\n\u001b[1;32m      6\u001b[0m order\u001b[39m.\u001b[39mshipped \u001b[39m=\u001b[39m \u001b[39mTrue\u001b[39;00m\n\u001b[1;32m      7\u001b[0m session\u001b[39m.\u001b[39madd(order)\n\u001b[0;32m----> 8\u001b[0m session\u001b[39m.\u001b[39;49mcommit()\n\u001b[1;32m      9\u001b[0m \u001b[39mprint\u001b[39m(\u001b[39m\"\u001b[39m\u001b[39mshipped order ID: \u001b[39m\u001b[39m{}\u001b[39;00m\u001b[39m\"\u001b[39m\u001b[39m.\u001b[39mformat(order_id))\n",
      "File \u001b[0;32m/workspaces/essential-sqlalchemy-2e/venv/lib/python3.10/site-packages/sqlalchemy/orm/session.py:1923\u001b[0m, in \u001b[0;36mSession.commit\u001b[0;34m(self)\u001b[0m\n\u001b[1;32m   1920\u001b[0m \u001b[39mif\u001b[39;00m trans \u001b[39mis\u001b[39;00m \u001b[39mNone\u001b[39;00m:\n\u001b[1;32m   1921\u001b[0m     trans \u001b[39m=\u001b[39m \u001b[39mself\u001b[39m\u001b[39m.\u001b[39m_autobegin_t()\n\u001b[0;32m-> 1923\u001b[0m trans\u001b[39m.\u001b[39;49mcommit(_to_root\u001b[39m=\u001b[39;49m\u001b[39mTrue\u001b[39;49;00m)\n",
      "File \u001b[0;32m<string>:2\u001b[0m, in \u001b[0;36mcommit\u001b[0;34m(self, _to_root)\u001b[0m\n",
      "File \u001b[0;32m/workspaces/essential-sqlalchemy-2e/venv/lib/python3.10/site-packages/sqlalchemy/orm/state_changes.py:139\u001b[0m, in \u001b[0;36m_StateChange.declare_states.<locals>._go\u001b[0;34m(fn, self, *arg, **kw)\u001b[0m\n\u001b[1;32m    137\u001b[0m \u001b[39mself\u001b[39m\u001b[39m.\u001b[39m_next_state \u001b[39m=\u001b[39m _StateChangeStates\u001b[39m.\u001b[39mCHANGE_IN_PROGRESS\n\u001b[1;32m    138\u001b[0m \u001b[39mtry\u001b[39;00m:\n\u001b[0;32m--> 139\u001b[0m     ret_value \u001b[39m=\u001b[39m fn(\u001b[39mself\u001b[39;49m, \u001b[39m*\u001b[39;49marg, \u001b[39m*\u001b[39;49m\u001b[39m*\u001b[39;49mkw)\n\u001b[1;32m    140\u001b[0m \u001b[39mexcept\u001b[39;00m:\n\u001b[1;32m    141\u001b[0m     \u001b[39mraise\u001b[39;00m\n",
      "File \u001b[0;32m/workspaces/essential-sqlalchemy-2e/venv/lib/python3.10/site-packages/sqlalchemy/orm/session.py:1239\u001b[0m, in \u001b[0;36mSessionTransaction.commit\u001b[0;34m(self, _to_root)\u001b[0m\n\u001b[1;32m   1237\u001b[0m \u001b[39mif\u001b[39;00m \u001b[39mself\u001b[39m\u001b[39m.\u001b[39m_state \u001b[39mis\u001b[39;00m \u001b[39mnot\u001b[39;00m SessionTransactionState\u001b[39m.\u001b[39mPREPARED:\n\u001b[1;32m   1238\u001b[0m     \u001b[39mwith\u001b[39;00m \u001b[39mself\u001b[39m\u001b[39m.\u001b[39m_expect_state(SessionTransactionState\u001b[39m.\u001b[39mPREPARED):\n\u001b[0;32m-> 1239\u001b[0m         \u001b[39mself\u001b[39;49m\u001b[39m.\u001b[39;49m_prepare_impl()\n\u001b[1;32m   1241\u001b[0m \u001b[39mif\u001b[39;00m \u001b[39mself\u001b[39m\u001b[39m.\u001b[39m_parent \u001b[39mis\u001b[39;00m \u001b[39mNone\u001b[39;00m \u001b[39mor\u001b[39;00m \u001b[39mself\u001b[39m\u001b[39m.\u001b[39mnested:\n\u001b[1;32m   1242\u001b[0m     \u001b[39mfor\u001b[39;00m conn, trans, should_commit, autoclose \u001b[39min\u001b[39;00m \u001b[39mset\u001b[39m(\n\u001b[1;32m   1243\u001b[0m         \u001b[39mself\u001b[39m\u001b[39m.\u001b[39m_connections\u001b[39m.\u001b[39mvalues()\n\u001b[1;32m   1244\u001b[0m     ):\n",
      "File \u001b[0;32m<string>:2\u001b[0m, in \u001b[0;36m_prepare_impl\u001b[0;34m(self)\u001b[0m\n",
      "File \u001b[0;32m/workspaces/essential-sqlalchemy-2e/venv/lib/python3.10/site-packages/sqlalchemy/orm/state_changes.py:139\u001b[0m, in \u001b[0;36m_StateChange.declare_states.<locals>._go\u001b[0;34m(fn, self, *arg, **kw)\u001b[0m\n\u001b[1;32m    137\u001b[0m \u001b[39mself\u001b[39m\u001b[39m.\u001b[39m_next_state \u001b[39m=\u001b[39m _StateChangeStates\u001b[39m.\u001b[39mCHANGE_IN_PROGRESS\n\u001b[1;32m    138\u001b[0m \u001b[39mtry\u001b[39;00m:\n\u001b[0;32m--> 139\u001b[0m     ret_value \u001b[39m=\u001b[39m fn(\u001b[39mself\u001b[39;49m, \u001b[39m*\u001b[39;49marg, \u001b[39m*\u001b[39;49m\u001b[39m*\u001b[39;49mkw)\n\u001b[1;32m    140\u001b[0m \u001b[39mexcept\u001b[39;00m:\n\u001b[1;32m    141\u001b[0m     \u001b[39mraise\u001b[39;00m\n",
      "File \u001b[0;32m/workspaces/essential-sqlalchemy-2e/venv/lib/python3.10/site-packages/sqlalchemy/orm/session.py:1214\u001b[0m, in \u001b[0;36mSessionTransaction._prepare_impl\u001b[0;34m(self)\u001b[0m\n\u001b[1;32m   1212\u001b[0m     \u001b[39mif\u001b[39;00m \u001b[39mself\u001b[39m\u001b[39m.\u001b[39msession\u001b[39m.\u001b[39m_is_clean():\n\u001b[1;32m   1213\u001b[0m         \u001b[39mbreak\u001b[39;00m\n\u001b[0;32m-> 1214\u001b[0m     \u001b[39mself\u001b[39;49m\u001b[39m.\u001b[39;49msession\u001b[39m.\u001b[39;49mflush()\n\u001b[1;32m   1215\u001b[0m \u001b[39melse\u001b[39;00m:\n\u001b[1;32m   1216\u001b[0m     \u001b[39mraise\u001b[39;00m exc\u001b[39m.\u001b[39mFlushError(\n\u001b[1;32m   1217\u001b[0m         \u001b[39m\"\u001b[39m\u001b[39mOver 100 subsequent flushes have occurred within \u001b[39m\u001b[39m\"\u001b[39m\n\u001b[1;32m   1218\u001b[0m         \u001b[39m\"\u001b[39m\u001b[39msession.commit() - is an after_flush() hook \u001b[39m\u001b[39m\"\u001b[39m\n\u001b[1;32m   1219\u001b[0m         \u001b[39m\"\u001b[39m\u001b[39mcreating new objects?\u001b[39m\u001b[39m\"\u001b[39m\n\u001b[1;32m   1220\u001b[0m     )\n",
      "File \u001b[0;32m/workspaces/essential-sqlalchemy-2e/venv/lib/python3.10/site-packages/sqlalchemy/orm/session.py:4179\u001b[0m, in \u001b[0;36mSession.flush\u001b[0;34m(self, objects)\u001b[0m\n\u001b[1;32m   4177\u001b[0m \u001b[39mtry\u001b[39;00m:\n\u001b[1;32m   4178\u001b[0m     \u001b[39mself\u001b[39m\u001b[39m.\u001b[39m_flushing \u001b[39m=\u001b[39m \u001b[39mTrue\u001b[39;00m\n\u001b[0;32m-> 4179\u001b[0m     \u001b[39mself\u001b[39;49m\u001b[39m.\u001b[39;49m_flush(objects)\n\u001b[1;32m   4180\u001b[0m \u001b[39mfinally\u001b[39;00m:\n\u001b[1;32m   4181\u001b[0m     \u001b[39mself\u001b[39m\u001b[39m.\u001b[39m_flushing \u001b[39m=\u001b[39m \u001b[39mFalse\u001b[39;00m\n",
      "File \u001b[0;32m/workspaces/essential-sqlalchemy-2e/venv/lib/python3.10/site-packages/sqlalchemy/orm/session.py:4314\u001b[0m, in \u001b[0;36mSession._flush\u001b[0;34m(self, objects)\u001b[0m\n\u001b[1;32m   4311\u001b[0m     transaction\u001b[39m.\u001b[39mcommit()\n\u001b[1;32m   4313\u001b[0m \u001b[39mexcept\u001b[39;00m:\n\u001b[0;32m-> 4314\u001b[0m     \u001b[39mwith\u001b[39;00m util\u001b[39m.\u001b[39msafe_reraise():\n\u001b[1;32m   4315\u001b[0m         transaction\u001b[39m.\u001b[39mrollback(_capture_exception\u001b[39m=\u001b[39m\u001b[39mTrue\u001b[39;00m)\n",
      "File \u001b[0;32m/workspaces/essential-sqlalchemy-2e/venv/lib/python3.10/site-packages/sqlalchemy/util/langhelpers.py:147\u001b[0m, in \u001b[0;36msafe_reraise.__exit__\u001b[0;34m(self, type_, value, traceback)\u001b[0m\n\u001b[1;32m    145\u001b[0m     \u001b[39massert\u001b[39;00m exc_value \u001b[39mis\u001b[39;00m \u001b[39mnot\u001b[39;00m \u001b[39mNone\u001b[39;00m\n\u001b[1;32m    146\u001b[0m     \u001b[39mself\u001b[39m\u001b[39m.\u001b[39m_exc_info \u001b[39m=\u001b[39m \u001b[39mNone\u001b[39;00m  \u001b[39m# remove potential circular references\u001b[39;00m\n\u001b[0;32m--> 147\u001b[0m     \u001b[39mraise\u001b[39;00m exc_value\u001b[39m.\u001b[39mwith_traceback(exc_tb)\n\u001b[1;32m    148\u001b[0m \u001b[39melse\u001b[39;00m:\n\u001b[1;32m    149\u001b[0m     \u001b[39mself\u001b[39m\u001b[39m.\u001b[39m_exc_info \u001b[39m=\u001b[39m \u001b[39mNone\u001b[39;00m  \u001b[39m# remove potential circular references\u001b[39;00m\n",
      "File \u001b[0;32m/workspaces/essential-sqlalchemy-2e/venv/lib/python3.10/site-packages/sqlalchemy/orm/session.py:4275\u001b[0m, in \u001b[0;36mSession._flush\u001b[0;34m(self, objects)\u001b[0m\n\u001b[1;32m   4273\u001b[0m \u001b[39mself\u001b[39m\u001b[39m.\u001b[39m_warn_on_events \u001b[39m=\u001b[39m \u001b[39mTrue\u001b[39;00m\n\u001b[1;32m   4274\u001b[0m \u001b[39mtry\u001b[39;00m:\n\u001b[0;32m-> 4275\u001b[0m     flush_context\u001b[39m.\u001b[39;49mexecute()\n\u001b[1;32m   4276\u001b[0m \u001b[39mfinally\u001b[39;00m:\n\u001b[1;32m   4277\u001b[0m     \u001b[39mself\u001b[39m\u001b[39m.\u001b[39m_warn_on_events \u001b[39m=\u001b[39m \u001b[39mFalse\u001b[39;00m\n",
      "File \u001b[0;32m/workspaces/essential-sqlalchemy-2e/venv/lib/python3.10/site-packages/sqlalchemy/orm/unitofwork.py:466\u001b[0m, in \u001b[0;36mUOWTransaction.execute\u001b[0;34m(self)\u001b[0m\n\u001b[1;32m    464\u001b[0m \u001b[39melse\u001b[39;00m:\n\u001b[1;32m    465\u001b[0m     \u001b[39mfor\u001b[39;00m rec \u001b[39min\u001b[39;00m topological\u001b[39m.\u001b[39msort(\u001b[39mself\u001b[39m\u001b[39m.\u001b[39mdependencies, postsort_actions):\n\u001b[0;32m--> 466\u001b[0m         rec\u001b[39m.\u001b[39;49mexecute(\u001b[39mself\u001b[39;49m)\n",
      "File \u001b[0;32m/workspaces/essential-sqlalchemy-2e/venv/lib/python3.10/site-packages/sqlalchemy/orm/unitofwork.py:642\u001b[0m, in \u001b[0;36mSaveUpdateAll.execute\u001b[0;34m(self, uow)\u001b[0m\n\u001b[1;32m    640\u001b[0m \u001b[39m@util\u001b[39m\u001b[39m.\u001b[39mpreload_module(\u001b[39m\"\u001b[39m\u001b[39msqlalchemy.orm.persistence\u001b[39m\u001b[39m\"\u001b[39m)\n\u001b[1;32m    641\u001b[0m \u001b[39mdef\u001b[39;00m \u001b[39mexecute\u001b[39m(\u001b[39mself\u001b[39m, uow):\n\u001b[0;32m--> 642\u001b[0m     util\u001b[39m.\u001b[39;49mpreloaded\u001b[39m.\u001b[39;49morm_persistence\u001b[39m.\u001b[39;49msave_obj(\n\u001b[1;32m    643\u001b[0m         \u001b[39mself\u001b[39;49m\u001b[39m.\u001b[39;49mmapper,\n\u001b[1;32m    644\u001b[0m         uow\u001b[39m.\u001b[39;49mstates_for_mapper_hierarchy(\u001b[39mself\u001b[39;49m\u001b[39m.\u001b[39;49mmapper, \u001b[39mFalse\u001b[39;49;00m, \u001b[39mFalse\u001b[39;49;00m),\n\u001b[1;32m    645\u001b[0m         uow,\n\u001b[1;32m    646\u001b[0m     )\n",
      "File \u001b[0;32m/workspaces/essential-sqlalchemy-2e/venv/lib/python3.10/site-packages/sqlalchemy/orm/persistence.py:85\u001b[0m, in \u001b[0;36msave_obj\u001b[0;34m(base_mapper, states, uowtransaction, single)\u001b[0m\n\u001b[1;32m     79\u001b[0m     insert \u001b[39m=\u001b[39m _collect_insert_commands(table, states_to_insert)\n\u001b[1;32m     81\u001b[0m     update \u001b[39m=\u001b[39m _collect_update_commands(\n\u001b[1;32m     82\u001b[0m         uowtransaction, table, states_to_update\n\u001b[1;32m     83\u001b[0m     )\n\u001b[0;32m---> 85\u001b[0m     _emit_update_statements(\n\u001b[1;32m     86\u001b[0m         base_mapper,\n\u001b[1;32m     87\u001b[0m         uowtransaction,\n\u001b[1;32m     88\u001b[0m         mapper,\n\u001b[1;32m     89\u001b[0m         table,\n\u001b[1;32m     90\u001b[0m         update,\n\u001b[1;32m     91\u001b[0m     )\n\u001b[1;32m     93\u001b[0m     _emit_insert_statements(\n\u001b[1;32m     94\u001b[0m         base_mapper,\n\u001b[1;32m     95\u001b[0m         uowtransaction,\n\u001b[0;32m   (...)\u001b[0m\n\u001b[1;32m     98\u001b[0m         insert,\n\u001b[1;32m     99\u001b[0m     )\n\u001b[1;32m    101\u001b[0m _finalize_insert_update_commands(\n\u001b[1;32m    102\u001b[0m     base_mapper,\n\u001b[1;32m    103\u001b[0m     uowtransaction,\n\u001b[0;32m   (...)\u001b[0m\n\u001b[1;32m    119\u001b[0m     ),\n\u001b[1;32m    120\u001b[0m )\n",
      "File \u001b[0;32m/workspaces/essential-sqlalchemy-2e/venv/lib/python3.10/site-packages/sqlalchemy/orm/persistence.py:909\u001b[0m, in \u001b[0;36m_emit_update_statements\u001b[0;34m(base_mapper, uowtransaction, mapper, table, update, bookkeeping, use_orm_update_stmt, enable_check_rowcount)\u001b[0m\n\u001b[1;32m    902\u001b[0m multiparams \u001b[39m=\u001b[39m [rec[\u001b[39m2\u001b[39m] \u001b[39mfor\u001b[39;00m rec \u001b[39min\u001b[39;00m records]\n\u001b[1;32m    904\u001b[0m check_rowcount \u001b[39m=\u001b[39m enable_check_rowcount \u001b[39mand\u001b[39;00m (\n\u001b[1;32m    905\u001b[0m     assert_multirow\n\u001b[1;32m    906\u001b[0m     \u001b[39mor\u001b[39;00m (assert_singlerow \u001b[39mand\u001b[39;00m \u001b[39mlen\u001b[39m(multiparams) \u001b[39m==\u001b[39m \u001b[39m1\u001b[39m)\n\u001b[1;32m    907\u001b[0m )\n\u001b[0;32m--> 909\u001b[0m c \u001b[39m=\u001b[39m connection\u001b[39m.\u001b[39;49mexecute(\n\u001b[1;32m    910\u001b[0m     statement, multiparams, execution_options\u001b[39m=\u001b[39;49mexecution_options\n\u001b[1;32m    911\u001b[0m )\n\u001b[1;32m    913\u001b[0m rows \u001b[39m+\u001b[39m\u001b[39m=\u001b[39m c\u001b[39m.\u001b[39mrowcount\n\u001b[1;32m    915\u001b[0m \u001b[39mfor\u001b[39;00m (\n\u001b[1;32m    916\u001b[0m     state,\n\u001b[1;32m    917\u001b[0m     state_dict,\n\u001b[0;32m   (...)\u001b[0m\n\u001b[1;32m    923\u001b[0m     has_all_pks,\n\u001b[1;32m    924\u001b[0m ) \u001b[39min\u001b[39;00m records:\n",
      "File \u001b[0;32m/workspaces/essential-sqlalchemy-2e/venv/lib/python3.10/site-packages/sqlalchemy/engine/base.py:1412\u001b[0m, in \u001b[0;36mConnection.execute\u001b[0;34m(self, statement, parameters, execution_options)\u001b[0m\n\u001b[1;32m   1410\u001b[0m     \u001b[39mraise\u001b[39;00m exc\u001b[39m.\u001b[39mObjectNotExecutableError(statement) \u001b[39mfrom\u001b[39;00m \u001b[39merr\u001b[39;00m\n\u001b[1;32m   1411\u001b[0m \u001b[39melse\u001b[39;00m:\n\u001b[0;32m-> 1412\u001b[0m     \u001b[39mreturn\u001b[39;00m meth(\n\u001b[1;32m   1413\u001b[0m         \u001b[39mself\u001b[39;49m,\n\u001b[1;32m   1414\u001b[0m         distilled_parameters,\n\u001b[1;32m   1415\u001b[0m         execution_options \u001b[39mor\u001b[39;49;00m NO_OPTIONS,\n\u001b[1;32m   1416\u001b[0m     )\n",
      "File \u001b[0;32m/workspaces/essential-sqlalchemy-2e/venv/lib/python3.10/site-packages/sqlalchemy/sql/elements.py:515\u001b[0m, in \u001b[0;36mClauseElement._execute_on_connection\u001b[0;34m(self, connection, distilled_params, execution_options)\u001b[0m\n\u001b[1;32m    513\u001b[0m     \u001b[39mif\u001b[39;00m TYPE_CHECKING:\n\u001b[1;32m    514\u001b[0m         \u001b[39massert\u001b[39;00m \u001b[39misinstance\u001b[39m(\u001b[39mself\u001b[39m, Executable)\n\u001b[0;32m--> 515\u001b[0m     \u001b[39mreturn\u001b[39;00m connection\u001b[39m.\u001b[39;49m_execute_clauseelement(\n\u001b[1;32m    516\u001b[0m         \u001b[39mself\u001b[39;49m, distilled_params, execution_options\n\u001b[1;32m    517\u001b[0m     )\n\u001b[1;32m    518\u001b[0m \u001b[39melse\u001b[39;00m:\n\u001b[1;32m    519\u001b[0m     \u001b[39mraise\u001b[39;00m exc\u001b[39m.\u001b[39mObjectNotExecutableError(\u001b[39mself\u001b[39m)\n",
      "File \u001b[0;32m/workspaces/essential-sqlalchemy-2e/venv/lib/python3.10/site-packages/sqlalchemy/engine/base.py:1635\u001b[0m, in \u001b[0;36mConnection._execute_clauseelement\u001b[0;34m(self, elem, distilled_parameters, execution_options)\u001b[0m\n\u001b[1;32m   1623\u001b[0m compiled_cache: Optional[CompiledCacheType] \u001b[39m=\u001b[39m execution_options\u001b[39m.\u001b[39mget(\n\u001b[1;32m   1624\u001b[0m     \u001b[39m\"\u001b[39m\u001b[39mcompiled_cache\u001b[39m\u001b[39m\"\u001b[39m, \u001b[39mself\u001b[39m\u001b[39m.\u001b[39mengine\u001b[39m.\u001b[39m_compiled_cache\n\u001b[1;32m   1625\u001b[0m )\n\u001b[1;32m   1627\u001b[0m compiled_sql, extracted_params, cache_hit \u001b[39m=\u001b[39m elem\u001b[39m.\u001b[39m_compile_w_cache(\n\u001b[1;32m   1628\u001b[0m     dialect\u001b[39m=\u001b[39mdialect,\n\u001b[1;32m   1629\u001b[0m     compiled_cache\u001b[39m=\u001b[39mcompiled_cache,\n\u001b[0;32m   (...)\u001b[0m\n\u001b[1;32m   1633\u001b[0m     linting\u001b[39m=\u001b[39m\u001b[39mself\u001b[39m\u001b[39m.\u001b[39mdialect\u001b[39m.\u001b[39mcompiler_linting \u001b[39m|\u001b[39m compiler\u001b[39m.\u001b[39mWARN_LINTING,\n\u001b[1;32m   1634\u001b[0m )\n\u001b[0;32m-> 1635\u001b[0m ret \u001b[39m=\u001b[39m \u001b[39mself\u001b[39;49m\u001b[39m.\u001b[39;49m_execute_context(\n\u001b[1;32m   1636\u001b[0m     dialect,\n\u001b[1;32m   1637\u001b[0m     dialect\u001b[39m.\u001b[39;49mexecution_ctx_cls\u001b[39m.\u001b[39;49m_init_compiled,\n\u001b[1;32m   1638\u001b[0m     compiled_sql,\n\u001b[1;32m   1639\u001b[0m     distilled_parameters,\n\u001b[1;32m   1640\u001b[0m     execution_options,\n\u001b[1;32m   1641\u001b[0m     compiled_sql,\n\u001b[1;32m   1642\u001b[0m     distilled_parameters,\n\u001b[1;32m   1643\u001b[0m     elem,\n\u001b[1;32m   1644\u001b[0m     extracted_params,\n\u001b[1;32m   1645\u001b[0m     cache_hit\u001b[39m=\u001b[39;49mcache_hit,\n\u001b[1;32m   1646\u001b[0m )\n\u001b[1;32m   1647\u001b[0m \u001b[39mif\u001b[39;00m has_events:\n\u001b[1;32m   1648\u001b[0m     \u001b[39mself\u001b[39m\u001b[39m.\u001b[39mdispatch\u001b[39m.\u001b[39mafter_execute(\n\u001b[1;32m   1649\u001b[0m         \u001b[39mself\u001b[39m,\n\u001b[1;32m   1650\u001b[0m         elem,\n\u001b[0;32m   (...)\u001b[0m\n\u001b[1;32m   1654\u001b[0m         ret,\n\u001b[1;32m   1655\u001b[0m     )\n",
      "File \u001b[0;32m/workspaces/essential-sqlalchemy-2e/venv/lib/python3.10/site-packages/sqlalchemy/engine/base.py:1844\u001b[0m, in \u001b[0;36mConnection._execute_context\u001b[0;34m(self, dialect, constructor, statement, parameters, execution_options, *args, **kw)\u001b[0m\n\u001b[1;32m   1839\u001b[0m     \u001b[39mreturn\u001b[39;00m \u001b[39mself\u001b[39m\u001b[39m.\u001b[39m_exec_insertmany_context(\n\u001b[1;32m   1840\u001b[0m         dialect,\n\u001b[1;32m   1841\u001b[0m         context,\n\u001b[1;32m   1842\u001b[0m     )\n\u001b[1;32m   1843\u001b[0m \u001b[39melse\u001b[39;00m:\n\u001b[0;32m-> 1844\u001b[0m     \u001b[39mreturn\u001b[39;00m \u001b[39mself\u001b[39;49m\u001b[39m.\u001b[39;49m_exec_single_context(\n\u001b[1;32m   1845\u001b[0m         dialect, context, statement, parameters\n\u001b[1;32m   1846\u001b[0m     )\n",
      "File \u001b[0;32m/workspaces/essential-sqlalchemy-2e/venv/lib/python3.10/site-packages/sqlalchemy/engine/base.py:1984\u001b[0m, in \u001b[0;36mConnection._exec_single_context\u001b[0;34m(self, dialect, context, statement, parameters)\u001b[0m\n\u001b[1;32m   1981\u001b[0m     result \u001b[39m=\u001b[39m context\u001b[39m.\u001b[39m_setup_result_proxy()\n\u001b[1;32m   1983\u001b[0m \u001b[39mexcept\u001b[39;00m \u001b[39mBaseException\u001b[39;00m \u001b[39mas\u001b[39;00m e:\n\u001b[0;32m-> 1984\u001b[0m     \u001b[39mself\u001b[39;49m\u001b[39m.\u001b[39;49m_handle_dbapi_exception(\n\u001b[1;32m   1985\u001b[0m         e, str_statement, effective_parameters, cursor, context\n\u001b[1;32m   1986\u001b[0m     )\n\u001b[1;32m   1988\u001b[0m \u001b[39mreturn\u001b[39;00m result\n",
      "File \u001b[0;32m/workspaces/essential-sqlalchemy-2e/venv/lib/python3.10/site-packages/sqlalchemy/engine/base.py:2339\u001b[0m, in \u001b[0;36mConnection._handle_dbapi_exception\u001b[0;34m(self, e, statement, parameters, cursor, context, is_sub_exec)\u001b[0m\n\u001b[1;32m   2337\u001b[0m \u001b[39melif\u001b[39;00m should_wrap:\n\u001b[1;32m   2338\u001b[0m     \u001b[39massert\u001b[39;00m sqlalchemy_exception \u001b[39mis\u001b[39;00m \u001b[39mnot\u001b[39;00m \u001b[39mNone\u001b[39;00m\n\u001b[0;32m-> 2339\u001b[0m     \u001b[39mraise\u001b[39;00m sqlalchemy_exception\u001b[39m.\u001b[39mwith_traceback(exc_info[\u001b[39m2\u001b[39m]) \u001b[39mfrom\u001b[39;00m \u001b[39me\u001b[39;00m\n\u001b[1;32m   2340\u001b[0m \u001b[39melse\u001b[39;00m:\n\u001b[1;32m   2341\u001b[0m     \u001b[39massert\u001b[39;00m exc_info[\u001b[39m1\u001b[39m] \u001b[39mis\u001b[39;00m \u001b[39mnot\u001b[39;00m \u001b[39mNone\u001b[39;00m\n",
      "File \u001b[0;32m/workspaces/essential-sqlalchemy-2e/venv/lib/python3.10/site-packages/sqlalchemy/engine/base.py:1965\u001b[0m, in \u001b[0;36mConnection._exec_single_context\u001b[0;34m(self, dialect, context, statement, parameters)\u001b[0m\n\u001b[1;32m   1963\u001b[0m                 \u001b[39mbreak\u001b[39;00m\n\u001b[1;32m   1964\u001b[0m     \u001b[39mif\u001b[39;00m \u001b[39mnot\u001b[39;00m evt_handled:\n\u001b[0;32m-> 1965\u001b[0m         \u001b[39mself\u001b[39;49m\u001b[39m.\u001b[39;49mdialect\u001b[39m.\u001b[39;49mdo_execute(\n\u001b[1;32m   1966\u001b[0m             cursor, str_statement, effective_parameters, context\n\u001b[1;32m   1967\u001b[0m         )\n\u001b[1;32m   1969\u001b[0m \u001b[39mif\u001b[39;00m \u001b[39mself\u001b[39m\u001b[39m.\u001b[39m_has_events \u001b[39mor\u001b[39;00m \u001b[39mself\u001b[39m\u001b[39m.\u001b[39mengine\u001b[39m.\u001b[39m_has_events:\n\u001b[1;32m   1970\u001b[0m     \u001b[39mself\u001b[39m\u001b[39m.\u001b[39mdispatch\u001b[39m.\u001b[39mafter_cursor_execute(\n\u001b[1;32m   1971\u001b[0m         \u001b[39mself\u001b[39m,\n\u001b[1;32m   1972\u001b[0m         cursor,\n\u001b[0;32m   (...)\u001b[0m\n\u001b[1;32m   1976\u001b[0m         context\u001b[39m.\u001b[39mexecutemany,\n\u001b[1;32m   1977\u001b[0m     )\n",
      "File \u001b[0;32m/workspaces/essential-sqlalchemy-2e/venv/lib/python3.10/site-packages/sqlalchemy/engine/default.py:921\u001b[0m, in \u001b[0;36mDefaultDialect.do_execute\u001b[0;34m(self, cursor, statement, parameters, context)\u001b[0m\n\u001b[1;32m    920\u001b[0m \u001b[39mdef\u001b[39;00m \u001b[39mdo_execute\u001b[39m(\u001b[39mself\u001b[39m, cursor, statement, parameters, context\u001b[39m=\u001b[39m\u001b[39mNone\u001b[39;00m):\n\u001b[0;32m--> 921\u001b[0m     cursor\u001b[39m.\u001b[39;49mexecute(statement, parameters)\n",
      "\u001b[0;31mIntegrityError\u001b[0m: (sqlite3.IntegrityError) CHECK constraint failed: quantity_positive\n[SQL: UPDATE cookies SET quantity=? WHERE cookies.cookie_id = ?]\n[parameters: (-8, 2)]\n(Background on this error at: https://sqlalche.me/e/20/gkpj)"
     ]
    }
   ],
   "source": [
    "ship_it(2)"
   ]
  },
  {
   "cell_type": "code",
   "execution_count": 8,
   "metadata": {
    "collapsed": false
   },
   "outputs": [
    {
     "ename": "PendingRollbackError",
     "evalue": "This Session's transaction has been rolled back due to a previous exception during flush. To begin a new transaction with this Session, first issue Session.rollback(). Original exception was: (sqlite3.IntegrityError) CHECK constraint failed: quantity_positive\n[SQL: UPDATE cookies SET quantity=? WHERE cookies.cookie_id = ?]\n[parameters: (-8, 2)]\n(Background on this error at: https://sqlalche.me/e/20/gkpj) (Background on this error at: https://sqlalche.me/e/20/7s2a)",
     "output_type": "error",
     "traceback": [
      "\u001b[0;31m---------------------------------------------------------------------------\u001b[0m",
      "\u001b[0;31mPendingRollbackError\u001b[0m                      Traceback (most recent call last)",
      "Cell \u001b[0;32mIn[8], line 1\u001b[0m\n\u001b[0;32m----> 1\u001b[0m \u001b[39mprint\u001b[39m(session\u001b[39m.\u001b[39;49mquery(Cookie\u001b[39m.\u001b[39;49mcookie_name, Cookie\u001b[39m.\u001b[39;49mquantity)\u001b[39m.\u001b[39;49mall())\n",
      "File \u001b[0;32m/workspaces/essential-sqlalchemy-2e/venv/lib/python3.10/site-packages/sqlalchemy/orm/query.py:2688\u001b[0m, in \u001b[0;36mQuery.all\u001b[0;34m(self)\u001b[0m\n\u001b[1;32m   2666\u001b[0m \u001b[39mdef\u001b[39;00m \u001b[39mall\u001b[39m(\u001b[39mself\u001b[39m) \u001b[39m-\u001b[39m\u001b[39m>\u001b[39m List[_T]:\n\u001b[1;32m   2667\u001b[0m \u001b[39m    \u001b[39m\u001b[39m\"\"\"Return the results represented by this :class:`_query.Query`\u001b[39;00m\n\u001b[1;32m   2668\u001b[0m \u001b[39m    as a list.\u001b[39;00m\n\u001b[1;32m   2669\u001b[0m \n\u001b[0;32m   (...)\u001b[0m\n\u001b[1;32m   2686\u001b[0m \u001b[39m        :meth:`_engine.Result.scalars` - v2 comparable method.\u001b[39;00m\n\u001b[1;32m   2687\u001b[0m \u001b[39m    \"\"\"\u001b[39;00m\n\u001b[0;32m-> 2688\u001b[0m     \u001b[39mreturn\u001b[39;00m \u001b[39mself\u001b[39;49m\u001b[39m.\u001b[39;49m_iter()\u001b[39m.\u001b[39mall()\n",
      "File \u001b[0;32m/workspaces/essential-sqlalchemy-2e/venv/lib/python3.10/site-packages/sqlalchemy/orm/query.py:2842\u001b[0m, in \u001b[0;36mQuery._iter\u001b[0;34m(self)\u001b[0m\n\u001b[1;32m   2839\u001b[0m params \u001b[39m=\u001b[39m \u001b[39mself\u001b[39m\u001b[39m.\u001b[39m_params\n\u001b[1;32m   2841\u001b[0m statement \u001b[39m=\u001b[39m \u001b[39mself\u001b[39m\u001b[39m.\u001b[39m_statement_20()\n\u001b[0;32m-> 2842\u001b[0m result: Union[ScalarResult[_T], Result[_T]] \u001b[39m=\u001b[39m \u001b[39mself\u001b[39;49m\u001b[39m.\u001b[39;49msession\u001b[39m.\u001b[39;49mexecute(\n\u001b[1;32m   2843\u001b[0m     statement,\n\u001b[1;32m   2844\u001b[0m     params,\n\u001b[1;32m   2845\u001b[0m     execution_options\u001b[39m=\u001b[39;49m{\u001b[39m\"\u001b[39;49m\u001b[39m_sa_orm_load_options\u001b[39;49m\u001b[39m\"\u001b[39;49m: \u001b[39mself\u001b[39;49m\u001b[39m.\u001b[39;49mload_options},\n\u001b[1;32m   2846\u001b[0m )\n\u001b[1;32m   2848\u001b[0m \u001b[39m# legacy: automatically set scalars, unique\u001b[39;00m\n\u001b[1;32m   2849\u001b[0m \u001b[39mif\u001b[39;00m result\u001b[39m.\u001b[39m_attributes\u001b[39m.\u001b[39mget(\u001b[39m\"\u001b[39m\u001b[39mis_single_entity\u001b[39m\u001b[39m\"\u001b[39m, \u001b[39mFalse\u001b[39;00m):\n",
      "File \u001b[0;32m/workspaces/essential-sqlalchemy-2e/venv/lib/python3.10/site-packages/sqlalchemy/orm/session.py:2262\u001b[0m, in \u001b[0;36mSession.execute\u001b[0;34m(self, statement, params, execution_options, bind_arguments, _parent_execute_state, _add_event)\u001b[0m\n\u001b[1;32m   2201\u001b[0m \u001b[39mdef\u001b[39;00m \u001b[39mexecute\u001b[39m(\n\u001b[1;32m   2202\u001b[0m     \u001b[39mself\u001b[39m,\n\u001b[1;32m   2203\u001b[0m     statement: Executable,\n\u001b[0;32m   (...)\u001b[0m\n\u001b[1;32m   2209\u001b[0m     _add_event: Optional[Any] \u001b[39m=\u001b[39m \u001b[39mNone\u001b[39;00m,\n\u001b[1;32m   2210\u001b[0m ) \u001b[39m-\u001b[39m\u001b[39m>\u001b[39m Result[Any]:\n\u001b[1;32m   2211\u001b[0m \u001b[39m    \u001b[39m\u001b[39mr\u001b[39m\u001b[39m\"\"\"Execute a SQL expression construct.\u001b[39;00m\n\u001b[1;32m   2212\u001b[0m \n\u001b[1;32m   2213\u001b[0m \u001b[39m    Returns a :class:`_engine.Result` object representing\u001b[39;00m\n\u001b[0;32m   (...)\u001b[0m\n\u001b[1;32m   2260\u001b[0m \n\u001b[1;32m   2261\u001b[0m \u001b[39m    \"\"\"\u001b[39;00m\n\u001b[0;32m-> 2262\u001b[0m     \u001b[39mreturn\u001b[39;00m \u001b[39mself\u001b[39;49m\u001b[39m.\u001b[39;49m_execute_internal(\n\u001b[1;32m   2263\u001b[0m         statement,\n\u001b[1;32m   2264\u001b[0m         params,\n\u001b[1;32m   2265\u001b[0m         execution_options\u001b[39m=\u001b[39;49mexecution_options,\n\u001b[1;32m   2266\u001b[0m         bind_arguments\u001b[39m=\u001b[39;49mbind_arguments,\n\u001b[1;32m   2267\u001b[0m         _parent_execute_state\u001b[39m=\u001b[39;49m_parent_execute_state,\n\u001b[1;32m   2268\u001b[0m         _add_event\u001b[39m=\u001b[39;49m_add_event,\n\u001b[1;32m   2269\u001b[0m     )\n",
      "File \u001b[0;32m/workspaces/essential-sqlalchemy-2e/venv/lib/python3.10/site-packages/sqlalchemy/orm/session.py:2134\u001b[0m, in \u001b[0;36mSession._execute_internal\u001b[0;34m(self, statement, params, execution_options, bind_arguments, _parent_execute_state, _add_event, _scalar_result)\u001b[0m\n\u001b[1;32m   2120\u001b[0m     (\n\u001b[1;32m   2121\u001b[0m         statement,\n\u001b[1;32m   2122\u001b[0m         execution_options,\n\u001b[0;32m   (...)\u001b[0m\n\u001b[1;32m   2129\u001b[0m         \u001b[39mFalse\u001b[39;00m,\n\u001b[1;32m   2130\u001b[0m     )\n\u001b[1;32m   2132\u001b[0m bind \u001b[39m=\u001b[39m \u001b[39mself\u001b[39m\u001b[39m.\u001b[39mget_bind(\u001b[39m*\u001b[39m\u001b[39m*\u001b[39mbind_arguments)\n\u001b[0;32m-> 2134\u001b[0m conn \u001b[39m=\u001b[39m \u001b[39mself\u001b[39;49m\u001b[39m.\u001b[39;49m_connection_for_bind(bind)\n\u001b[1;32m   2136\u001b[0m \u001b[39mif\u001b[39;00m _scalar_result \u001b[39mand\u001b[39;00m \u001b[39mnot\u001b[39;00m compile_state_cls:\n\u001b[1;32m   2137\u001b[0m     \u001b[39mif\u001b[39;00m TYPE_CHECKING:\n",
      "File \u001b[0;32m/workspaces/essential-sqlalchemy-2e/venv/lib/python3.10/site-packages/sqlalchemy/orm/session.py:2001\u001b[0m, in \u001b[0;36mSession._connection_for_bind\u001b[0;34m(self, engine, execution_options, **kw)\u001b[0m\n\u001b[1;32m   1999\u001b[0m \u001b[39mif\u001b[39;00m trans \u001b[39mis\u001b[39;00m \u001b[39mNone\u001b[39;00m:\n\u001b[1;32m   2000\u001b[0m     trans \u001b[39m=\u001b[39m \u001b[39mself\u001b[39m\u001b[39m.\u001b[39m_autobegin_t()\n\u001b[0;32m-> 2001\u001b[0m \u001b[39mreturn\u001b[39;00m trans\u001b[39m.\u001b[39;49m_connection_for_bind(engine, execution_options)\n",
      "File \u001b[0;32m<string>:2\u001b[0m, in \u001b[0;36m_connection_for_bind\u001b[0;34m(self, bind, execution_options)\u001b[0m\n",
      "File \u001b[0;32m/workspaces/essential-sqlalchemy-2e/venv/lib/python3.10/site-packages/sqlalchemy/orm/state_changes.py:103\u001b[0m, in \u001b[0;36m_StateChange.declare_states.<locals>._go\u001b[0;34m(fn, self, *arg, **kw)\u001b[0m\n\u001b[1;32m     97\u001b[0m current_state \u001b[39m=\u001b[39m \u001b[39mself\u001b[39m\u001b[39m.\u001b[39m_state\n\u001b[1;32m     99\u001b[0m \u001b[39mif\u001b[39;00m (\n\u001b[1;32m    100\u001b[0m     has_prerequisite_states\n\u001b[1;32m    101\u001b[0m     \u001b[39mand\u001b[39;00m current_state \u001b[39mnot\u001b[39;00m \u001b[39min\u001b[39;00m prerequisite_state_collection\n\u001b[1;32m    102\u001b[0m ):\n\u001b[0;32m--> 103\u001b[0m     \u001b[39mself\u001b[39;49m\u001b[39m.\u001b[39;49m_raise_for_prerequisite_state(fn\u001b[39m.\u001b[39;49m\u001b[39m__name__\u001b[39;49m, current_state)\n\u001b[1;32m    105\u001b[0m next_state \u001b[39m=\u001b[39m \u001b[39mself\u001b[39m\u001b[39m.\u001b[39m_next_state\n\u001b[1;32m    106\u001b[0m existing_fn \u001b[39m=\u001b[39m \u001b[39mself\u001b[39m\u001b[39m.\u001b[39m_current_fn\n",
      "File \u001b[0;32m/workspaces/essential-sqlalchemy-2e/venv/lib/python3.10/site-packages/sqlalchemy/orm/session.py:912\u001b[0m, in \u001b[0;36mSessionTransaction._raise_for_prerequisite_state\u001b[0;34m(self, operation_name, state)\u001b[0m\n\u001b[1;32m    910\u001b[0m \u001b[39mif\u001b[39;00m state \u001b[39mis\u001b[39;00m SessionTransactionState\u001b[39m.\u001b[39mDEACTIVE:\n\u001b[1;32m    911\u001b[0m     \u001b[39mif\u001b[39;00m \u001b[39mself\u001b[39m\u001b[39m.\u001b[39m_rollback_exception:\n\u001b[0;32m--> 912\u001b[0m         \u001b[39mraise\u001b[39;00m sa_exc\u001b[39m.\u001b[39mPendingRollbackError(\n\u001b[1;32m    913\u001b[0m             \u001b[39m\"\u001b[39m\u001b[39mThis Session\u001b[39m\u001b[39m'\u001b[39m\u001b[39ms transaction has been rolled back \u001b[39m\u001b[39m\"\u001b[39m\n\u001b[1;32m    914\u001b[0m             \u001b[39m\"\u001b[39m\u001b[39mdue to a previous exception during flush.\u001b[39m\u001b[39m\"\u001b[39m\n\u001b[1;32m    915\u001b[0m             \u001b[39m\"\u001b[39m\u001b[39m To begin a new transaction with this Session, \u001b[39m\u001b[39m\"\u001b[39m\n\u001b[1;32m    916\u001b[0m             \u001b[39m\"\u001b[39m\u001b[39mfirst issue Session.rollback().\u001b[39m\u001b[39m\"\u001b[39m\n\u001b[1;32m    917\u001b[0m             \u001b[39mf\u001b[39m\u001b[39m\"\u001b[39m\u001b[39m Original exception was: \u001b[39m\u001b[39m{\u001b[39;00m\u001b[39mself\u001b[39m\u001b[39m.\u001b[39m_rollback_exception\u001b[39m}\u001b[39;00m\u001b[39m\"\u001b[39m,\n\u001b[1;32m    918\u001b[0m             code\u001b[39m=\u001b[39m\u001b[39m\"\u001b[39m\u001b[39m7s2a\u001b[39m\u001b[39m\"\u001b[39m,\n\u001b[1;32m    919\u001b[0m         )\n\u001b[1;32m    920\u001b[0m     \u001b[39melse\u001b[39;00m:\n\u001b[1;32m    921\u001b[0m         \u001b[39mraise\u001b[39;00m sa_exc\u001b[39m.\u001b[39mInvalidRequestError(\n\u001b[1;32m    922\u001b[0m             \u001b[39m\"\u001b[39m\u001b[39mThis session is in \u001b[39m\u001b[39m'\u001b[39m\u001b[39minactive\u001b[39m\u001b[39m'\u001b[39m\u001b[39m state, due to the \u001b[39m\u001b[39m\"\u001b[39m\n\u001b[1;32m    923\u001b[0m             \u001b[39m\"\u001b[39m\u001b[39mSQL transaction being rolled back; no further SQL \u001b[39m\u001b[39m\"\u001b[39m\n\u001b[1;32m    924\u001b[0m             \u001b[39m\"\u001b[39m\u001b[39mcan be emitted within this transaction.\u001b[39m\u001b[39m\"\u001b[39m\n\u001b[1;32m    925\u001b[0m         )\n",
      "\u001b[0;31mPendingRollbackError\u001b[0m: This Session's transaction has been rolled back due to a previous exception during flush. To begin a new transaction with this Session, first issue Session.rollback(). Original exception was: (sqlite3.IntegrityError) CHECK constraint failed: quantity_positive\n[SQL: UPDATE cookies SET quantity=? WHERE cookies.cookie_id = ?]\n[parameters: (-8, 2)]\n(Background on this error at: https://sqlalche.me/e/20/gkpj) (Background on this error at: https://sqlalche.me/e/20/7s2a)"
     ]
    }
   ],
   "source": [
    "print(session.query(Cookie.cookie_name, Cookie.quantity).all())"
   ]
  },
  {
   "cell_type": "code",
   "execution_count": 9,
   "metadata": {
    "collapsed": false
   },
   "outputs": [
    {
     "name": "stdout",
     "output_type": "stream",
     "text": [
      "[('chocolate chip', 3), ('dark chocolate chip', 1)]\n"
     ]
    }
   ],
   "source": [
    "session.rollback()\n",
    "print(session.query(Cookie.cookie_name, Cookie.quantity).all())"
   ]
  },
  {
   "cell_type": "code",
   "execution_count": 10,
   "metadata": {
    "collapsed": true
   },
   "outputs": [],
   "source": [
    "from sqlalchemy.exc import IntegrityError\n",
    "def ship_it(order_id):\n",
    "    order = session.query(Order).get(order_id)\n",
    "    for li in order.line_items:\n",
    "        li.cookie.quantity = li.cookie.quantity - li.quantity\n",
    "        session.add(li.cookie)\n",
    "    order.shipped = True\n",
    "    session.add(order)\n",
    "    try:\n",
    "        session.commit()\n",
    "        print(\"shipped order ID: {}\".format(order_id))\n",
    "    except IntegrityError as error:\n",
    "        print('ERROR: {!s}'.format(error.orig))\n",
    "        session.rollback()"
   ]
  },
  {
   "cell_type": "code",
   "execution_count": 11,
   "metadata": {
    "collapsed": false
   },
   "outputs": [
    {
     "name": "stdout",
     "output_type": "stream",
     "text": [
      "ERROR: CHECK constraint failed: quantity_positive\n"
     ]
    },
    {
     "name": "stderr",
     "output_type": "stream",
     "text": [
      "/tmp/ipykernel_5544/1695504284.py:3: LegacyAPIWarning: The Query.get() method is considered legacy as of the 1.x series of SQLAlchemy and becomes a legacy construct in 2.0. The method is now available as Session.get() (deprecated since: 2.0) (Background on SQLAlchemy 2.0 at: https://sqlalche.me/e/b8d9)\n",
      "  order = session.query(Order).get(order_id)\n"
     ]
    }
   ],
   "source": [
    "ship_it(2)"
   ]
  },
  {
   "cell_type": "code",
   "execution_count": null,
   "metadata": {
    "collapsed": true
   },
   "outputs": [],
   "source": []
  }
 ],
 "metadata": {
  "kernelspec": {
   "display_name": "venv",
   "language": "python",
   "name": "python3"
  },
  "language_info": {
   "codemirror_mode": {
    "name": "ipython",
    "version": 3
   },
   "file_extension": ".py",
   "mimetype": "text/x-python",
   "name": "python",
   "nbconvert_exporter": "python",
   "pygments_lexer": "ipython3",
   "version": "3.10.8"
  }
 },
 "nbformat": 4,
 "nbformat_minor": 0
}
